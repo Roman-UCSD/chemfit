{
 "cells": [
  {
   "cell_type": "code",
   "execution_count": 1,
   "id": "6d97ae8e",
   "metadata": {},
   "outputs": [],
   "source": [
    "import chemfit\n",
    "import numpy as np\n",
    "import matplotlib.pyplot as plt\n",
    "import systematics\n",
    "import tqdm\n",
    "import pickle\n",
    "\n",
    "# chemfit.convolution_weights = systematics.approximate_convolution_weights\n",
    "\n",
    "%matplotlib inline"
   ]
  },
  {
   "cell_type": "code",
   "execution_count": 2,
   "id": "e1f4f4a4",
   "metadata": {},
   "outputs": [
    {
     "name": "stderr",
     "output_type": "stream",
     "text": [
      "/tmp/ipykernel_114568/3798694484.py:3: TqdmDeprecationWarning: This function will be removed in tqdm==5.0.0\n",
      "Please use `tqdm.notebook.tqdm` instead of `tqdm.tqdm_notebook`\n",
      "  for i in tqdm.tqdm_notebook(range(len(systematics.suite[0]))):\n"
     ]
    },
    {
     "data": {
      "application/vnd.jupyter.widget-view+json": {
       "model_id": "0ec8f037047b4184be4bdaccbae4e43e",
       "version_major": 2,
       "version_minor": 0
      },
      "text/plain": [
       "  0%|          | 0/180 [00:00<?, ?it/s]"
      ]
     },
     "metadata": {},
     "output_type": "display_data"
    },
    {
     "name": "stderr",
     "output_type": "stream",
     "text": [
      "/home/roman/PFS/chemfit/chemfit.py:728: UserWarning: In spectrograph arm blue the model does not cover the full wavelength range of the detector. Affected bins were set to np.nan\n",
      "  warnings.warn(message)\n"
     ]
    }
   ],
   "source": [
    "fit = []\n",
    "\n",
    "for i in tqdm.tqdm_notebook(range(len(systematics.suite[0]))):\n",
    "    wl, flux, ivar = systematics.gen_test(systematics.suite.T[i], ['blue', 'red_mr'], add_continuum = True, exact_resample = False)\n",
    "\n",
    "#     f = open('../chemtest/observations/zscale_{}_teff_{}_logg_{}_alpha_{}_rmag_15_lr.pkl'.format(*systematics.suite.T[i]), 'rb')\n",
    "#     wl, flux, ivar = pickle.load(f)\n",
    "#     f.close()\n",
    "#     for arm in wl:\n",
    "#         mask = (~np.isnan(wl[arm])) & (~np.isnan(flux[arm])) & (~np.isnan(flux[arm]))\n",
    "#         wl[arm] = wl[arm][mask]\n",
    "#         flux[arm] = flux[arm][mask]\n",
    "#         ivar[arm] = ivar[arm][mask]\n",
    "\n",
    "    fit += [chemfit.chemfit(wl, flux, ivar, initial = {'teff': 4000.0, 'zscale': -1.5, 'logg': 1.5, 'alpha': 0.0})]\n",
    "\n",
    "fit = {key: np.array([item[key] for item in fit]) for key in fit[0]}"
   ]
  },
  {
   "cell_type": "code",
   "execution_count": 3,
   "id": "98cbca04",
   "metadata": {},
   "outputs": [
    {
     "name": "stdout",
     "output_type": "stream",
     "text": [
      "       | min      | mean     | max     \n",
      "zscale | 1.43e-09 | 8.66e-03 | 1.47e-02\n",
      "teff   | 4.40e-02 | 3.55e+00 | 7.82e+00\n",
      "logg   | 1.84e-09 | 9.68e-03 | 4.37e-02\n",
      "alpha  | 6.21e-10 | 2.42e-03 | 6.91e-03\n"
     ]
    }
   ],
   "source": [
    "print('{:6s} | {:8s} | {:8s} | {:8s}'.format('', 'min', 'mean', 'max'))\n",
    "\n",
    "err = np.abs(fit['zscale'] - systematics.suite[0])\n",
    "print('{:6s} | {:.2e} | {:.2e} | {:.2e}'.format('zscale', np.min(err), np.mean(err), np.max(err)))\n",
    "\n",
    "err = np.abs(fit['teff'] - systematics.suite[1])\n",
    "print('{:6s} | {:.2e} | {:.2e} | {:.2e}'.format('teff', np.min(err), np.mean(err), np.max(err)))\n",
    "\n",
    "err = np.abs(fit['logg'] - systematics.suite[2])\n",
    "print('{:6s} | {:.2e} | {:.2e} | {:.2e}'.format('logg', np.min(err), np.mean(err), np.max(err)))\n",
    "\n",
    "err = np.abs(fit['alpha'] - systematics.suite[3])\n",
    "print('{:6s} | {:.2e} | {:.2e} | {:.2e}'.format('alpha', np.min(err), np.mean(err), np.max(err)))"
   ]
  },
  {
   "cell_type": "code",
   "execution_count": null,
   "id": "2c58ad70",
   "metadata": {},
   "outputs": [],
   "source": []
  }
 ],
 "metadata": {
  "kernelspec": {
   "display_name": "Python 3 (ipykernel)",
   "language": "python",
   "name": "python3"
  },
  "language_info": {
   "codemirror_mode": {
    "name": "ipython",
    "version": 3
   },
   "file_extension": ".py",
   "mimetype": "text/x-python",
   "name": "python",
   "nbconvert_exporter": "python",
   "pygments_lexer": "ipython3",
   "version": "3.11.5"
  }
 },
 "nbformat": 4,
 "nbformat_minor": 5
}
